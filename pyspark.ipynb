{
  "nbformat": 4,
  "nbformat_minor": 0,
  "metadata": {
    "colab": {
      "provenance": []
    },
    "kernelspec": {
      "name": "python3",
      "display_name": "Python 3"
    },
    "language_info": {
      "name": "python"
    }
  },
  "cells": [
    {
      "cell_type": "markdown",
      "source": [
        "# Preparação do ambiente para realizar a análise de dados com pyspark"
      ],
      "metadata": {
        "id": "9zSn4xWoi-jS"
      }
    },
    {
      "cell_type": "code",
      "execution_count": null,
      "metadata": {
        "colab": {
          "base_uri": "https://localhost:8080/"
        },
        "id": "nU-Ogtyj6ZMf",
        "outputId": "5df9366e-a4a9-4683-e39d-4cc3b90db7dc"
      },
      "outputs": [
        {
          "output_type": "stream",
          "name": "stdout",
          "text": [
            "Drive already mounted at /content/drive; to attempt to forcibly remount, call drive.mount(\"/content/drive\", force_remount=True).\n"
          ]
        }
      ],
      "source": [
        "from google.colab import drive\n",
        "drive.mount('/content/drive')"
      ]
    },
    {
      "cell_type": "code",
      "source": [
        "import os\n",
        "os.chdir(\"/content/drive/My Drive\")"
      ],
      "metadata": {
        "id": "_lTrUCL47tRk"
      },
      "execution_count": null,
      "outputs": []
    },
    {
      "cell_type": "code",
      "source": [
        "!ls"
      ],
      "metadata": {
        "colab": {
          "base_uri": "https://localhost:8080/"
        },
        "id": "tbg1702P7tcs",
        "outputId": "0b8c2c47-03d0-4fbb-b32e-327933e1acb3"
      },
      "execution_count": null,
      "outputs": [
        {
          "output_type": "stream",
          "name": "stdout",
          "text": [
            " bq-results-20230331-115425-1680266314785   sd254_cards.csv\n",
            "'Colab Notebooks'\t\t\t    sd254_users.csv\n",
            " EXP.csv\t\t\t\t   'teste  ideia2001'\n",
            " fakefriends_df.ipynb\t\t\t    User0_credit_card_transactions.csv\n",
            " projetobigqueryinfnet.csv\t\t    xxxxxxxxxxx.png\n",
            " Projeto_Machine_Learning\n"
          ]
        }
      ]
    },
    {
      "cell_type": "code",
      "source": [
        "!pip install pyspark"
      ],
      "metadata": {
        "colab": {
          "base_uri": "https://localhost:8080/"
        },
        "id": "wDCAC8-67tfn",
        "outputId": "dc5d5052-df20-4d27-e88b-683db770664d"
      },
      "execution_count": null,
      "outputs": [
        {
          "output_type": "stream",
          "name": "stdout",
          "text": [
            "Requirement already satisfied: pyspark in /usr/local/lib/python3.10/dist-packages (3.4.1)\n",
            "Requirement already satisfied: py4j==0.10.9.7 in /usr/local/lib/python3.10/dist-packages (from pyspark) (0.10.9.7)\n"
          ]
        }
      ]
    },
    {
      "cell_type": "code",
      "source": [
        "from pyspark.sql import SparkSession"
      ],
      "metadata": {
        "id": "cAagzv2g7tjO"
      },
      "execution_count": null,
      "outputs": []
    },
    {
      "cell_type": "code",
      "source": [
        "from pyspark.sql.functions import col, avg, when, mean"
      ],
      "metadata": {
        "id": "CTxKifutBNew"
      },
      "execution_count": null,
      "outputs": []
    },
    {
      "cell_type": "code",
      "source": [
        "spark = SparkSession.builder.appName(\"cards\").master('local[*]').getOrCreate()"
      ],
      "metadata": {
        "id": "DTh7ftQL7tmi"
      },
      "execution_count": null,
      "outputs": []
    },
    {
      "cell_type": "code",
      "source": [
        "from pyspark.sql.types import StructType, StructField, IntegerType, StringType, DoubleType"
      ],
      "metadata": {
        "id": "YCZ7OfxtHgS5"
      },
      "execution_count": null,
      "outputs": []
    },
    {
      "cell_type": "code",
      "source": [
        "#Defição do esquema\n",
        "schema = StructType([\n",
        "    StructField(\"Card_Index\", IntegerType()),\n",
        "    StructField(\"Card_Brand\", StringType()),\n",
        "    StructField(\"Card_Type\", StringType()),\n",
        "    StructField(\"Card_Number\", StringType()),\n",
        "    StructField(\"Expires\", StringType()),\n",
        "    StructField(\"CVV\", StringType()),\n",
        "    StructField(\"Has_Chip\", StringType()),\n",
        "    StructField(\"Cards_Issued\", IntegerType()),\n",
        "    StructField(\"Credit_Limit\", DoubleType()),\n",
        "    StructField(\"Acct_Open_Date\", StringType()),\n",
        "    StructField(\"Year_PIN_Last_Changed\", IntegerType()),\n",
        "    StructField(\"Card_on_Dark_Web\", StringType())\n",
        "])"
      ],
      "metadata": {
        "id": "uVFsQWZJHN2g"
      },
      "execution_count": null,
      "outputs": []
    },
    {
      "cell_type": "code",
      "source": [
        "#Carregamento dos dados com o esquema definido\n",
        "df_cards = spark.read.csv(path='sd254_cards.csv')"
      ],
      "metadata": {
        "id": "ZOQ0JjLqHsiD"
      },
      "execution_count": null,
      "outputs": []
    },
    {
      "cell_type": "code",
      "source": [
        "#Exibição do dataframe\n",
        "df_cards.show()"
      ],
      "metadata": {
        "colab": {
          "base_uri": "https://localhost:8080/"
        },
        "id": "SYfifknA7uGF",
        "outputId": "d2ebf5a9-3ae4-4b54-c0f4-d14aa169cf23"
      },
      "execution_count": null,
      "outputs": [
        {
          "output_type": "stream",
          "name": "stdout",
          "text": [
            "+----+----------+----------+---------------+----------------+-------+---+--------+------------+------------+--------------+--------------------+----------------+\n",
            "| _c0|       _c1|       _c2|            _c3|             _c4|    _c5|_c6|     _c7|         _c8|         _c9|          _c10|                _c11|            _c12|\n",
            "+----+----------+----------+---------------+----------------+-------+---+--------+------------+------------+--------------+--------------------+----------------+\n",
            "|User|CARD INDEX|Card Brand|      Card Type|     Card Number|Expires|CVV|Has Chip|Cards Issued|Credit Limit|Acct Open Date|Year PIN last Cha...|Card on Dark Web|\n",
            "|   0|         0|      Visa|          Debit|4344676511950444|12/2022|623|     YES|           2|      $24295|       09/2002|                2008|              No|\n",
            "|   0|         1|      Visa|          Debit|4956965974959986|12/2020|393|     YES|           2|      $21968|       04/2014|                2014|              No|\n",
            "|   0|         2|      Visa|          Debit|4582313478255491|02/2024|719|     YES|           2|      $46414|       07/2003|                2004|              No|\n",
            "|   0|         3|      Visa|         Credit|4879494103069057|08/2024|693|      NO|           1|      $12400|       01/2003|                2012|              No|\n",
            "|   0|         4|Mastercard|Debit (Prepaid)|5722874738736011|03/2009|075|     YES|           1|         $28|       09/2008|                2009|              No|\n",
            "|   1|         0|      Visa|         Credit|4404898874682993|09/2003|736|     YES|           1|      $27500|       09/2003|                2012|              No|\n",
            "|   1|         1|      Visa|          Debit|4001482973848631|07/2022|972|     YES|           2|      $28508|       02/2011|                2011|              No|\n",
            "|   1|         2|Mastercard|          Debit|5627220683410948|06/2022|048|     YES|           2|       $9022|       07/2003|                2015|              No|\n",
            "|   1|         3|Mastercard|Debit (Prepaid)|5711382187309326|11/2020|722|     YES|           2|         $54|       06/2010|                2015|              No|\n",
            "|   1|         4|Mastercard|Debit (Prepaid)|5766121508358701|02/2023|908|     YES|           1|         $99|       07/2006|                2012|              No|\n",
            "|   2|         0|Mastercard|          Debit|5495199163052054|03/2022|677|     YES|           2|      $31599|       10/2009|                2009|              No|\n",
            "|   2|         1|Mastercard|          Debit|5804499644308599|07/2023|258|      NO|           2|      $27480|       03/2002|                2008|              No|\n",
            "|   2|         2|Mastercard|          Debit|5766352389579834|02/2020|992|     YES|           1|      $26743|       03/2019|                2019|              No|\n",
            "|   2|         3|      Visa|          Debit|4242015583697294|06/2020|928|     YES|           1|      $31463|       04/2014|                2014|              No|\n",
            "|   2|         4|Mastercard|          Debit|5191030913182493|06/2024|360|     YES|           1|      $16055|       09/2009|                2009|              No|\n",
            "|   3|         0|      Visa|         Credit|4017261190134817|05/2015|877|     YES|           2|      $98100|       01/2011|                2011|              No|\n",
            "|   3|         1|Mastercard|Debit (Prepaid)|5581970288727991|06/2020|448|     YES|           1|         $62|       02/2007|                2007|              No|\n",
            "|   3|         2|      Visa|          Debit|4032240655674503|06/2022|053|     YES|           1|     $132439|       11/2010|                2011|              No|\n",
            "|   3|         3|      Visa|          Debit|4935974646456357|06/2020|649|     YES|           1|     $125723|       10/2009|                2010|              No|\n",
            "+----+----------+----------+---------------+----------------+-------+---+--------+------------+------------+--------------+--------------------+----------------+\n",
            "only showing top 20 rows\n",
            "\n"
          ]
        }
      ]
    },
    {
      "cell_type": "code",
      "source": [
        "df_cards.printSchema()"
      ],
      "metadata": {
        "colab": {
          "base_uri": "https://localhost:8080/"
        },
        "id": "LGUM81Ja7uJD",
        "outputId": "9e2a5bce-6f6a-4201-d5d9-c3925cb28475"
      },
      "execution_count": null,
      "outputs": [
        {
          "output_type": "stream",
          "name": "stdout",
          "text": [
            "root\n",
            " |-- _c0: string (nullable = true)\n",
            " |-- _c1: string (nullable = true)\n",
            " |-- _c2: string (nullable = true)\n",
            " |-- _c3: string (nullable = true)\n",
            " |-- _c4: string (nullable = true)\n",
            " |-- _c5: string (nullable = true)\n",
            " |-- _c6: string (nullable = true)\n",
            " |-- _c7: string (nullable = true)\n",
            " |-- _c8: string (nullable = true)\n",
            " |-- _c9: string (nullable = true)\n",
            " |-- _c10: string (nullable = true)\n",
            " |-- _c11: string (nullable = true)\n",
            " |-- _c12: string (nullable = true)\n",
            "\n"
          ]
        }
      ]
    },
    {
      "cell_type": "markdown",
      "source": [
        "# Realização de consultas usando o pyspark"
      ],
      "metadata": {
        "id": "JJEV9lm9jZm8"
      }
    },
    {
      "cell_type": "code",
      "source": [
        "#Consulta para saber o número médio de cartões emitidos por marca de cartão:\n",
        "result = df_cards.groupBy(\"_c2\").agg(avg(col(\"_c8\")).alias(\"Avg_Cards_Issued\"))\n",
        "result.show()"
      ],
      "metadata": {
        "colab": {
          "base_uri": "https://localhost:8080/"
        },
        "id": "kUESNdGI7uMf",
        "outputId": "ede0a7e9-cca6-497b-d645-18279f91e980"
      },
      "execution_count": null,
      "outputs": [
        {
          "output_type": "stream",
          "name": "stdout",
          "text": [
            "+----------+------------------+\n",
            "|       _c2|  Avg_Cards_Issued|\n",
            "+----------+------------------+\n",
            "|  Discover|1.4880382775119618|\n",
            "|Card Brand|              null|\n",
            "|      Visa| 1.504299226139295|\n",
            "|Mastercard|1.5020255531318167|\n",
            "|      Amex|1.5124378109452736|\n",
            "+----------+------------------+\n",
            "\n"
          ]
        }
      ]
    },
    {
      "cell_type": "code",
      "source": [
        "#Consulta para saber o número médio de cartões emitidos por tipo de cartão:\n",
        "result2 = df_cards.groupBy(\"_c3\").agg(avg(col(\"_c8\")).alias(\"Avg_Cards_Issued\"))\n",
        "result2.show()"
      ],
      "metadata": {
        "colab": {
          "base_uri": "https://localhost:8080/"
        },
        "id": "AVVeRIpe7ubE",
        "outputId": "1c351186-4fe8-4c60-f518-4f5861cbe545"
      },
      "execution_count": null,
      "outputs": [
        {
          "output_type": "stream",
          "name": "stdout",
          "text": [
            "+---------------+------------------+\n",
            "|            _c3|  Avg_Cards_Issued|\n",
            "+---------------+------------------+\n",
            "|      Card Type|              null|\n",
            "|         Credit| 1.511424404472533|\n",
            "|Debit (Prepaid)|1.5103806228373702|\n",
            "|          Debit| 1.497009399031615|\n",
            "+---------------+------------------+\n",
            "\n"
          ]
        }
      ]
    },
    {
      "cell_type": "code",
      "source": [
        "#Defição do esquema\n",
        "schema = StructType([\n",
        "    StructField(\"Current_Age\", IntegerType()),\n",
        "    StructField(\"Retirement_Age\", IntegerType()),\n",
        "    StructField(\"Birth_Year\", IntegerType()),\n",
        "    StructField(\"Gender\", StringType()),\n",
        "    StructField(\"Address\", StringType()),\n",
        "    StructField(\"Apartment\", StringType()),\n",
        "    StructField(\"City\", StringType()),\n",
        "    StructField(\"State\", StringType()),\n",
        "    StructField(\"Zipcode\", StringType()),\n",
        "    StructField(\"Latitude\", DoubleType()),\n",
        "    StructField(\"Longitude\", DoubleType()),\n",
        "    StructField(\"Per_Capita_Income\", DoubleType()),\n",
        "    StructField(\"Yearly_Income\", DoubleType()),\n",
        "    StructField(\"Total_Debt\", DoubleType()),\n",
        "    StructField(\"FICO_Score\", IntegerType()),\n",
        "    StructField(\"Num_Credit_Cards\", IntegerType())\n",
        "])"
      ],
      "metadata": {
        "id": "H3CP_AXj7ud6"
      },
      "execution_count": null,
      "outputs": []
    },
    {
      "cell_type": "code",
      "source": [
        "#Carregamento dos dados com o esquema definido\n",
        "df_users = spark.read.csv(\"sd254_users.csv\")"
      ],
      "metadata": {
        "id": "5FujjDrd7ug0"
      },
      "execution_count": null,
      "outputs": []
    },
    {
      "cell_type": "code",
      "source": [
        "#Exibição do dataframe\n",
        "df_users.show()"
      ],
      "metadata": {
        "colab": {
          "base_uri": "https://localhost:8080/"
        },
        "id": "yrEk70oc7ujs",
        "outputId": "eaad265f-d4ac-4c99-b3e1-153a9a20937a"
      },
      "execution_count": null,
      "outputs": [
        {
          "output_type": "stream",
          "name": "stdout",
          "text": [
            "+--------------+-----------+--------------+----------+-----------+------+--------------------+---------+-------------+-----+-------+--------+---------+--------------------+--------------------+----------+----------+----------------+\n",
            "|           _c0|        _c1|           _c2|       _c3|        _c4|   _c5|                 _c6|      _c7|          _c8|  _c9|   _c10|    _c11|     _c12|                _c13|                _c14|      _c15|      _c16|            _c17|\n",
            "+--------------+-----------+--------------+----------+-----------+------+--------------------+---------+-------------+-----+-------+--------+---------+--------------------+--------------------+----------+----------+----------------+\n",
            "|        Person|Current Age|Retirement Age|Birth Year|Birth Month|Gender|             Address|Apartment|         City|State|Zipcode|Latitude|Longitude|Per Capita Income...|Yearly Income - P...|Total Debt|FICO Score|Num Credit Cards|\n",
            "|Hazel Robinson|         53|            66|      1966|         11|Female|       462 Rose Lane|     null|     La Verne|   CA|  91750|   34.15|  -117.76|              $29278|              $59696|   $127613|       787|               5|\n",
            "|    Sasha Sadr|         53|            68|      1966|         12|Female|3606 Federal Boul...|     null|  Little Neck|   NY|  11363|   40.76|   -73.74|              $37891|              $77254|   $191349|       701|               5|\n",
            "|    Saanvi Lee|         81|            67|      1938|         11|Female|     766 Third Drive|     null|  West Covina|   CA|  91792|   34.02|  -117.89|              $22681|              $33483|      $196|       698|               5|\n",
            "| Everlee Clark|         63|            63|      1957|          1|Female|    3 Madison Street|     null|     New York|   NY|  10069|   40.71|   -73.99|             $163145|             $249925|   $202328|       722|               4|\n",
            "| Kyle Peterson|         43|            70|      1976|          9|  Male|9620 Valley Strea...|     null|San Francisco|   CA|  94117|   37.76|  -122.44|              $53797|             $109687|   $183855|       675|               1|\n",
            "|   Aldo Walker|         42|            70|      1977|         10|  Male|       58 Birch Lane|        6|    Davenport|   IA|  52803|   41.55|   -90.60|              $20599|              $41997|        $0|       704|               3|\n",
            "|Katalina Lewis|         36|            67|      1983|         12|Female|   5695 Fifth Street|        1|   Louisville|   KY|  40299|   38.22|   -85.74|              $25258|              $51500|   $102286|       672|               3|\n",
            "| Ryland Howard|         26|            67|      1993|         12|  Male|   1941 Ninth Street|       10|     Portland|   OR|  97214|   45.51|  -122.64|              $26790|              $54623|   $114711|       728|               1|\n",
            "|  Kenya Cooper|         81|            66|      1938|          7|Female|    11 Spruce Avenue|     null|      Telford|   PA|  18969|   40.32|   -75.32|              $26273|              $42509|     $2895|       755|               5|\n",
            "| Sawyer Butler|         34|            60|      1986|          1|Female|    887 Grant Street|     null|    Abbeville|   LA|  70510|   29.97|   -92.12|              $18730|              $38190|    $81262|       810|               1|\n",
            "|  Antonio Ryan|         27|            66|      1992|          6|  Male|      888 Fifth Lane|       10|    Fair Oaks|   CA|  95628|   38.65|  -121.25|              $27548|              $56164|    $15224|       761|               2|\n",
            "|Elliot Edwards|         29|            63|      1990|          9|Female|8677 Littlewood Lane|     null|      Greeley|   CO|  80634|   40.42|  -104.74|              $22427|              $45727|    $94016|       629|               1|\n",
            "| Romina Garcia|         18|            67|      2002|          1|Female|829 Fourth Boulevard|     null|     Cranston|   RI|  02921|   41.76|   -71.48|              $33914|              $69149|    $89214|       776|               1|\n",
            "|    Keanu Chen|         34|            62|      1985|         10|  Male|74786 Jefferson D...|     null|Traverse City|   MI|  49686|   44.75|   -85.60|              $20325|              $41442|    $78833|       712|               3|\n",
            "|  Poppy Flores|         48|            62|      1971|          5|Female|     781 East Street|     null|  San Antonio|   TX|  78207|   29.45|   -98.50|              $10059|              $20513|    $32509|       599|               1|\n",
            "|     Riya Cruz|         41|            68|      1978|          4|Female| 40 Washington Drive|     null|   Boise City|   OK|  73933|   36.73|  -102.51|              $11342|              $23123|     $5079|       723|               6|\n",
            "|   Saul Walker|         54|            71|      1966|          1|  Male| 3994 Hillside Drive|     null|    Henderson|   TX|  75652|   32.15|   -94.79|              $17898|              $36497|    $38333|       719|               6|\n",
            "|  Anahi Rogers|         76|            71|      1943|          8|Female|    172 Birch Street|        9|    Flagstaff|   AZ|  86004|   35.29|  -111.32|              $21950|              $27484|    $16803|       660|               4|\n",
            "| Cayden Rivera|         22|            68|      1997|         11|  Male|8145 Spruce Boule...|      635|    Charlotte|   NC|  28269|   35.19|   -80.83|              $26481|              $53995|    $89056|       683|               3|\n",
            "+--------------+-----------+--------------+----------+-----------+------+--------------------+---------+-------------+-----+-------+--------+---------+--------------------+--------------------+----------+----------+----------------+\n",
            "only showing top 20 rows\n",
            "\n"
          ]
        }
      ]
    },
    {
      "cell_type": "code",
      "source": [
        "#Consulta para saber o total de usuários por cidade:\n",
        "result3 = df_users.groupBy(\"_c8\").count().withColumnRenamed(\"count\", \"Total_Users\")\n",
        "result3.show()"
      ],
      "metadata": {
        "colab": {
          "base_uri": "https://localhost:8080/"
        },
        "id": "xmdV_EGrLnqQ",
        "outputId": "1c719d2c-cf6d-4a03-aa8e-1993b9b90d4a"
      },
      "execution_count": null,
      "outputs": [
        {
          "output_type": "stream",
          "name": "stdout",
          "text": [
            "+---------------+-----------+\n",
            "|            _c8|Total_Users|\n",
            "+---------------+-----------+\n",
            "|          Tyler|          2|\n",
            "|   Saint George|          3|\n",
            "|      Worcester|          1|\n",
            "|        Kilauea|          1|\n",
            "|       Bluffton|          1|\n",
            "|          Owego|          1|\n",
            "|     Prattville|          1|\n",
            "|        Edmonds|          1|\n",
            "|     Harrisburg|          1|\n",
            "|    Springfield|          5|\n",
            "|          Tempe|          1|\n",
            "|     Charleston|          5|\n",
            "|  Bowling Green|          2|\n",
            "|         Corona|          2|\n",
            "|  Lawrenceville|          2|\n",
            "|        Batavia|          1|\n",
            "|North Las Vegas|          1|\n",
            "|     Wellington|          1|\n",
            "|         Auburn|          2|\n",
            "|       Napoleon|          1|\n",
            "+---------------+-----------+\n",
            "only showing top 20 rows\n",
            "\n"
          ]
        }
      ]
    },
    {
      "cell_type": "code",
      "source": [
        "#Consulta para saber a média de idade dos usuários por cidade:\n",
        "result4 = df_users.groupBy(\"_c8\").agg(avg(col(\"_c1\")).alias(\"Avg_Age\"))\n",
        "result4.show()"
      ],
      "metadata": {
        "colab": {
          "base_uri": "https://localhost:8080/"
        },
        "id": "IAtw236PLntM",
        "outputId": "3c655b05-8335-4bb3-8fa4-82f6a6396131"
      },
      "execution_count": null,
      "outputs": [
        {
          "output_type": "stream",
          "name": "stdout",
          "text": [
            "+---------------+-------+\n",
            "|            _c8|Avg_Age|\n",
            "+---------------+-------+\n",
            "|          Tyler|   37.5|\n",
            "|   Saint George|   45.0|\n",
            "|      Worcester|   48.0|\n",
            "|        Kilauea|   37.0|\n",
            "|       Bluffton|   79.0|\n",
            "|          Owego|   43.0|\n",
            "|     Prattville|   28.0|\n",
            "|        Edmonds|   81.0|\n",
            "|     Harrisburg|   31.0|\n",
            "|    Springfield|   47.0|\n",
            "|          Tempe|   22.0|\n",
            "|     Charleston|   49.6|\n",
            "|  Bowling Green|   61.0|\n",
            "|         Corona|   32.0|\n",
            "|  Lawrenceville|   43.0|\n",
            "|        Batavia|   47.0|\n",
            "|North Las Vegas|   23.0|\n",
            "|     Wellington|   44.0|\n",
            "|         Auburn|   51.0|\n",
            "|       Napoleon|   59.0|\n",
            "+---------------+-------+\n",
            "only showing top 20 rows\n",
            "\n"
          ]
        }
      ]
    },
    {
      "cell_type": "code",
      "source": [
        "#Consulta para saber o número médio de cartões de crédito por faixa etária:\n",
        "age_group_data = df_users.withColumn(\n",
        "    \"Age_Group\",\n",
        "    when((col(\"_c1\") >= 18) & (col(\"_c1\") <= 30), \"18-30\")\n",
        "    .when((col(\"_c1\") >= 31) & (col(\"_c1\") <= 45), \"31-45\")\n",
        "    .when((col(\"_c1\") >= 46) & (col(\"_c1\") <= 60), \"46-60\")\n",
        "    .otherwise(\"60+\")\n",
        ")\n",
        "\n",
        "result5 = age_group_data.groupBy(\"Age_Group\").agg(mean(col(\"_c17\")).alias(\"Avg_Num_Cards\"))\n",
        "result5.show()"
      ],
      "metadata": {
        "colab": {
          "base_uri": "https://localhost:8080/"
        },
        "id": "tUzmD7OlLnwj",
        "outputId": "bef02e14-ffbd-48a4-a295-6eefa9350584"
      },
      "execution_count": null,
      "outputs": [
        {
          "output_type": "stream",
          "name": "stdout",
          "text": [
            "+---------+------------------+\n",
            "|Age_Group|     Avg_Num_Cards|\n",
            "+---------+------------------+\n",
            "|    31-45|2.8275193798449614|\n",
            "|    46-60| 3.348314606741573|\n",
            "|      60+| 4.195348837209302|\n",
            "|    18-30| 2.105769230769231|\n",
            "+---------+------------------+\n",
            "\n"
          ]
        }
      ]
    },
    {
      "cell_type": "code",
      "source": [
        "#Definição o esquema para df_transactions\n",
        "schema = StructType([\n",
        "    StructField(\"Card\", StringType()),\n",
        "    StructField(\"Year\", IntegerType()),\n",
        "    StructField(\"Month\", StringType()),\n",
        "    StructField(\"Day\", IntegerType()),\n",
        "    StructField(\"Tempo\", StringType()),\n",
        "    StructField(\"Amount\", DoubleType()),\n",
        "    StructField(\"Use_Chip\", StringType()),\n",
        "    StructField(\"Merchant_Name\", StringType()),\n",
        "    StructField(\"Merchant_State\", StringType()),\n",
        "    StructField(\"Zip\", StringType()),\n",
        "    StructField(\"MCC\", StringType()),\n",
        "    StructField(\"Errors\", StringType()),\n",
        "    StructField(\"Is_Fraud\", StringType())\n",
        "])\n",
        "\n",
        "#Carregamento os dados do arquivo CSV com o esquema definido\n",
        "df_transactions = spark.read.csv(\"User0_credit_card_transactions.csv\")"
      ],
      "metadata": {
        "id": "OtY4uSI9XucS"
      },
      "execution_count": null,
      "outputs": []
    },
    {
      "cell_type": "code",
      "source": [
        "#Exibição do dataframe\n",
        "df_transactions.show()"
      ],
      "metadata": {
        "colab": {
          "base_uri": "https://localhost:8080/"
        },
        "id": "PXEXWGVkXugJ",
        "outputId": "68897610-b5d4-4fec-8c44-d0fa3f30fd06"
      },
      "execution_count": null,
      "outputs": [
        {
          "output_type": "stream",
          "name": "stdout",
          "text": [
            "+----+----+----+-----+---+-----+-------+------------------+--------------------+-------------+--------------+-------+----+-------+---------+\n",
            "| _c0| _c1| _c2|  _c3|_c4|  _c5|    _c6|               _c7|                 _c8|          _c9|          _c10|   _c11|_c12|   _c13|     _c14|\n",
            "+----+----+----+-----+---+-----+-------+------------------+--------------------+-------------+--------------+-------+----+-------+---------+\n",
            "|User|Card|Year|Month|Day| Time| Amount|          Use Chip|       Merchant Name|Merchant City|Merchant State|    Zip| MCC|Errors?|Is Fraud?|\n",
            "|   0|   0|2002|    9|  1|06:21|$134.09| Swipe Transaction| 3527213246127876953|     La Verne|            CA|91750.0|5300|   null|       No|\n",
            "|   0|   0|2002|    9|  1|06:42| $38.48| Swipe Transaction| -727612092139916043|Monterey Park|            CA|91754.0|5411|   null|       No|\n",
            "|   0|   0|2002|    9|  2|06:22|$120.34| Swipe Transaction| -727612092139916043|Monterey Park|            CA|91754.0|5411|   null|       No|\n",
            "|   0|   0|2002|    9|  2|17:45|$128.95| Swipe Transaction| 3414527459579106770|Monterey Park|            CA|91754.0|5651|   null|       No|\n",
            "|   0|   0|2002|    9|  3|06:23|$104.71| Swipe Transaction| 5817218446178736267|     La Verne|            CA|91750.0|5912|   null|       No|\n",
            "|   0|   0|2002|    9|  3|13:53| $86.19| Swipe Transaction|-7146670748125200898|Monterey Park|            CA|91755.0|5970|   null|       No|\n",
            "|   0|   0|2002|    9|  4|05:51| $93.84| Swipe Transaction| -727612092139916043|Monterey Park|            CA|91754.0|5411|   null|       No|\n",
            "|   0|   0|2002|    9|  4|06:09|$123.50| Swipe Transaction| -727612092139916043|Monterey Park|            CA|91754.0|5411|   null|       No|\n",
            "|   0|   0|2002|    9|  5|06:14| $61.72| Swipe Transaction| -727612092139916043|Monterey Park|            CA|91754.0|5411|   null|       No|\n",
            "|   0|   0|2002|    9|  5|09:35| $57.10| Swipe Transaction| 4055257078481058705|     La Verne|            CA|91750.0|7538|   null|       No|\n",
            "|   0|   0|2002|    9|  5|20:18| $76.07| Swipe Transaction|-4500542936415012428|     La Verne|            CA|91750.0|5814|   null|       No|\n",
            "|   0|   0|2002|    9|  5|20:41| $53.91|Online Transaction|-9092677072201095172|       ONLINE|          null|   null|4900|   null|       No|\n",
            "|   0|   0|2002|    9|  6|06:16|$110.37| Swipe Transaction| 2027553650310142703|    Mira Loma|            CA|91752.0|5541|   null|       No|\n",
            "|   0|   0|2002|    9|  7|06:16|$117.05| Swipe Transaction| -727612092139916043|Monterey Park|            CA|91754.0|5411|   null|       No|\n",
            "|   0|   0|2002|    9|  7|06:34| $45.30| Swipe Transaction|-5475680618560174533|Monterey Park|            CA|91755.0|5942|   null|       No|\n",
            "|   0|   0|2002|    9|  7|09:39| $29.34| Swipe Transaction| 4055257078481058705|     La Verne|            CA|91750.0|7538|   null|       No|\n",
            "|   0|   0|2002|    9|  8|06:10|$147.45| Swipe Transaction|  -34551508091458520|     La Verne|            CA|91750.0|5912|   null|       No|\n",
            "|   0|   0|2002|    9|  8|06:38| $27.75| Swipe Transaction| 4060646732831064559|     La Verne|            CA|91750.0|5411|   null|       No|\n",
            "|   0|   0|2002|    9|  8|13:48| $76.57| Swipe Transaction| -727612092139916043|Monterey Park|            CA|91754.0|5411|   null|       No|\n",
            "+----+----+----+-----+---+-----+-------+------------------+--------------------+-------------+--------------+-------+----+-------+---------+\n",
            "only showing top 20 rows\n",
            "\n"
          ]
        }
      ]
    },
    {
      "cell_type": "code",
      "source": [
        "#Consulta para saber o número médio de transações por dia da semana:\n",
        "result6 = df_transactions.groupBy(\"_c4\").count().withColumnRenamed(\"count\", \"Num_Transactions\")\n",
        "result6.show()"
      ],
      "metadata": {
        "colab": {
          "base_uri": "https://localhost:8080/"
        },
        "id": "exPibYWtXui3",
        "outputId": "19948c9f-5a72-4e95-f121-911f6f9ce8d0"
      },
      "execution_count": null,
      "outputs": [
        {
          "output_type": "stream",
          "name": "stdout",
          "text": [
            "+---+----------------+\n",
            "|_c4|Num_Transactions|\n",
            "+---+----------------+\n",
            "|  7|             584|\n",
            "| 15|             706|\n",
            "| 11|             666|\n",
            "| 29|             635|\n",
            "|  3|             643|\n",
            "| 30|             580|\n",
            "|  8|             638|\n",
            "| 22|             640|\n",
            "| 28|             687|\n",
            "| 16|             663|\n",
            "|  5|             666|\n",
            "| 31|             388|\n",
            "| 18|             644|\n",
            "| 27|             645|\n",
            "| 17|             625|\n",
            "| 26|             671|\n",
            "|  6|             643|\n",
            "| 19|             646|\n",
            "| 23|             658|\n",
            "| 25|             659|\n",
            "+---+----------------+\n",
            "only showing top 20 rows\n",
            "\n"
          ]
        }
      ]
    },
    {
      "cell_type": "code",
      "source": [
        "#Consulta para saber o total de transações por ano e por mês:\n",
        "result7 = df_transactions.groupBy(\"_c2\", \"_c3\").count().withColumnRenamed(\"count\", \"Total_Transactions\")\n",
        "result7.show()"
      ],
      "metadata": {
        "colab": {
          "base_uri": "https://localhost:8080/"
        },
        "id": "xwIFIJcMXulr",
        "outputId": "c36a6958-6895-4680-c044-3f1a6dd0c9fe"
      },
      "execution_count": null,
      "outputs": [
        {
          "output_type": "stream",
          "name": "stdout",
          "text": [
            "+----+---+------------------+\n",
            "| _c2|_c3|Total_Transactions|\n",
            "+----+---+------------------+\n",
            "|2014|  2|                82|\n",
            "|2012| 11|                97|\n",
            "|2014| 11|                99|\n",
            "|2003|  9|                83|\n",
            "|2010|  1|               105|\n",
            "|2014|  8|                96|\n",
            "|2010|  3|                93|\n",
            "|2017|  7|               109|\n",
            "|2012|  7|               108|\n",
            "|2010|  4|               109|\n",
            "|2014|  5|                97|\n",
            "|2007|  7|                95|\n",
            "|2009| 11|                93|\n",
            "|2005|  5|               106|\n",
            "|2011|  4|                82|\n",
            "|2016|  7|                72|\n",
            "|2012|  8|                96|\n",
            "|2014| 12|                98|\n",
            "|2015| 11|               102|\n",
            "|2007|  9|               100|\n",
            "+----+---+------------------+\n",
            "only showing top 20 rows\n",
            "\n"
          ]
        }
      ]
    },
    {
      "cell_type": "code",
      "source": [
        "#Consulta para saber o número de transações por cidade do comerciante:\n",
        "result8 = df_transactions.groupBy(\"_c9\").count().withColumnRenamed(\"count\", \"Num_Transactions\")\n",
        "result8.show()"
      ],
      "metadata": {
        "colab": {
          "base_uri": "https://localhost:8080/"
        },
        "id": "V_GK92tiXuo5",
        "outputId": "251a43c0-7f1a-478c-d1f8-4924eb83de00"
      },
      "execution_count": null,
      "outputs": [
        {
          "output_type": "stream",
          "name": "stdout",
          "text": [
            "+---------------+----------------+\n",
            "|            _c9|Num_Transactions|\n",
            "+---------------+----------------+\n",
            "|      Worcester|               1|\n",
            "|         Corona|               6|\n",
            "|North Las Vegas|               8|\n",
            "|     Wellington|               3|\n",
            "|     West Hills|               2|\n",
            "|       Cranford|               3|\n",
            "|       Mableton|              21|\n",
            "|    New Buffalo|               5|\n",
            "|       Oak Park|               2|\n",
            "|       Sterling|               2|\n",
            "|      Palo Alto|              36|\n",
            "|        Hanford|               2|\n",
            "|      Anchorage|              24|\n",
            "| West Henrietta|               4|\n",
            "|  Central Islip|               2|\n",
            "|        Cabazon|               1|\n",
            "|        Wolcott|               3|\n",
            "|        Anaheim|               8|\n",
            "|        Bayside|               2|\n",
            "|   Lincoln Park|              16|\n",
            "+---------------+----------------+\n",
            "only showing top 20 rows\n",
            "\n"
          ]
        }
      ]
    },
    {
      "cell_type": "code",
      "source": [
        "#Consulta para saber o total de transações por cidade e por mês:\n",
        "result9 = df_transactions.groupBy(\"_c9\", \"_c3\").count().withColumnRenamed(\"count\", \"Num_Transactions\")\n",
        "result9.show()"
      ],
      "metadata": {
        "colab": {
          "base_uri": "https://localhost:8080/"
        },
        "id": "ogl7Hh8aXurj",
        "outputId": "78cf84bb-6de5-4094-c19d-36c54b084168"
      },
      "execution_count": null,
      "outputs": [
        {
          "output_type": "stream",
          "name": "stdout",
          "text": [
            "+----------------+---+----------------+\n",
            "|             _c9|_c3|Num_Transactions|\n",
            "+----------------+---+----------------+\n",
            "|         Ontario|  4|               8|\n",
            "|      Williamson| 12|               3|\n",
            "|      Shrewsbury|  1|               2|\n",
            "|        La Verne|  3|             915|\n",
            "|   Spring Valley|  9|               8|\n",
            "|         Ontario|  9|               7|\n",
            "|      Sun Valley| 11|               2|\n",
            "|     Pico Rivera| 10|               4|\n",
            "|    Garden Grove|  1|               2|\n",
            "|          ONLINE|  4|             107|\n",
            "|          ONLINE|  6|              97|\n",
            "|       Hawthorne|  3|              16|\n",
            "|       San Mateo|  5|               4|\n",
            "|            Rome| 12|              32|\n",
            "|          Oxford|  1|               6|\n",
            "|         Detroit| 10|              19|\n",
            "|Huntington Beach|  8|               2|\n",
            "|          Austin|  5|               9|\n",
            "|     Diamond Bar|  7|               5|\n",
            "|     Yorba Linda| 11|               8|\n",
            "+----------------+---+----------------+\n",
            "only showing top 20 rows\n",
            "\n"
          ]
        }
      ]
    },
    {
      "cell_type": "markdown",
      "source": [
        "# Realização de consultas que não estavam presentes no projeto Hadoop"
      ],
      "metadata": {
        "id": "8GQ_2X2tjpT_"
      }
    },
    {
      "cell_type": "code",
      "source": [
        "#Consulta bônus - Calcule o número total de transações fraudulentas\n",
        "total_fraudulentas = df_transactions.filter(col(\"_c14\") == \"Yes\").count()\n",
        "print(f\"O número total de cartões fraudulentos é: {total_fraudulentas}\")"
      ],
      "metadata": {
        "colab": {
          "base_uri": "https://localhost:8080/"
        },
        "id": "vM-yllAZABBo",
        "outputId": "deafb96e-5e82-42c6-ec19-44f11d709872"
      },
      "execution_count": null,
      "outputs": [
        {
          "output_type": "stream",
          "name": "stdout",
          "text": [
            "O número total de cartões fraudulentos é: 27\n"
          ]
        }
      ]
    },
    {
      "cell_type": "code",
      "source": [
        "#Consulta bônus - Calcule o número total de transações não fraudulentas\n",
        "total_nao_fraudulentas = df_transactions.filter(col(\"_c14\") == \"No\").count()\n",
        "print(f\"O número total de cartões não fraudulentos é: {total_nao_fraudulentas}\")"
      ],
      "metadata": {
        "colab": {
          "base_uri": "https://localhost:8080/"
        },
        "id": "KvFM-9trA67j",
        "outputId": "59e3ba1c-8d0a-49da-c7a0-f0efb103769d"
      },
      "execution_count": null,
      "outputs": [
        {
          "output_type": "stream",
          "name": "stdout",
          "text": [
            "O número total de cartões não fraudulentos é: 19936\n"
          ]
        }
      ]
    },
    {
      "cell_type": "markdown",
      "source": [
        "# Geração de gráficos a partir das novas consultas"
      ],
      "metadata": {
        "id": "rK0tJNB8j35-"
      }
    },
    {
      "cell_type": "code",
      "source": [
        "#Importação de biblioteca para geração de gráficos\n",
        "import matplotlib.pyplot as plt"
      ],
      "metadata": {
        "id": "D3cK4Du0CDT6"
      },
      "execution_count": null,
      "outputs": []
    },
    {
      "cell_type": "code",
      "source": [
        "#Dados para o gráfico de pizza\n",
        "labels_pizza = [\"Fraudulentas\", \"Não Fraudulentas\"]\n",
        "sizes_pizza = [total_fraudulentas, total_nao_fraudulentas]\n",
        "colors_pizza = [\"red\", \"green\"]\n",
        "explode_pizza = (0.1, 0)  # Explode a primeira fatia (fraudes)\n",
        "\n",
        "#Dados para o gráfico de barras\n",
        "categorias_bar = [\"Fraudulentas\", \"Não Fraudulentas\"]\n",
        "percentagens_bar = [total_fraudulentas, total_nao_fraudulentas]\n",
        "\n",
        "#Crieação de uma figura com dois subplots (gráfico de barras à esquerda, gráfico de pizza à direita)\n",
        "fig, axs = plt.subplots(1, 2, figsize=(12, 6))\n",
        "\n",
        "#Primeiro subplot: gráfico de barras (à esquerda)\n",
        "axs[0].bar(categorias_bar, percentagens_bar, color=['red', 'green'])\n",
        "axs[0].set_xlabel(\"Categorias\")\n",
        "axs[0].set_ylabel(\"Porcentagem (%)\")\n",
        "axs[0].set_title(\"Distribuição de Fraudes vs. Não-Fraudes (Barras)\")\n",
        "\n",
        "#Segundo subplot: gráfico de pizza (à direita)\n",
        "axs[1].pie(sizes_pizza, explode=explode_pizza, labels=labels_pizza, colors=colors_pizza, autopct=\"%1.1f%%\", shadow=True, startangle=140)\n",
        "axs[1].axis(\"equal\")  # Aspecto igual para garantir que seja um círculo\n",
        "axs[1].set_title(\"Distribuição de Fraudes vs. Não-Fraudes (Pizza)\")\n",
        "\n",
        "#Ajuste o espaçamento entre os subplots\n",
        "plt.tight_layout()\n",
        "\n",
        "#Exibição dos gráficos\n",
        "plt.show()"
      ],
      "metadata": {
        "colab": {
          "base_uri": "https://localhost:8080/",
          "height": 607
        },
        "id": "HR7P_AoeFSj3",
        "outputId": "156fe871-be03-4e6f-f40e-5e9eaf3d4184"
      },
      "execution_count": null,
      "outputs": [
        {
          "output_type": "display_data",
          "data": {
            "text/plain": [
              "<Figure size 1200x600 with 2 Axes>"
            ],
            "image/png": "[encoded data removed]"
          },
          "metadata": {}
        }
      ]
    }
  ]
}